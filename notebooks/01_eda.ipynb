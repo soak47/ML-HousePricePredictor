{
 "cells": [
  {
   "cell_type": "markdown",
   "id": "d9c4d2e2",
   "metadata": {},
   "source": [
    "# 01 — EDA & Data Quality Checks"
   ]
  },
  {
   "cell_type": "markdown",
   "id": "e5ef3ed2",
   "metadata": {},
   "source": [
    "This notebook previews the dataset, checks basic quality, and narrows to Malvern East + neighbours."
   ]
  },
  {
   "cell_type": "code",
   "execution_count": null,
   "id": "dbd1800c",
   "metadata": {},
   "outputs": [],
   "source": [
    "\n",
    "import pandas as pd\n",
    "import matplotlib.pyplot as plt\n",
    "from src.utils.data_loading import load_melbourne_csv\n",
    "from src.features.build_features import subset_focus_area, basic_clean\n",
    "import yaml\n",
    "\n",
    "cfg = yaml.safe_load(open('../config/params.yaml'))\n",
    "df = load_melbourne_csv('../' + cfg['data_path'])\n",
    "df = subset_focus_area(df, cfg['focus_suburbs'])\n",
    "df = basic_clean(df)\n",
    "print(df.shape)\n",
    "df.head()\n"
   ]
  },
  {
   "cell_type": "code",
   "execution_count": null,
   "id": "74f33c1b",
   "metadata": {},
   "outputs": [],
   "source": [
    "\n",
    "# Price distribution\n",
    "df['Price'].plot(kind='hist', bins=50, edgecolor='black')\n",
    "plt.title('Price distribution (filtered)')\n",
    "plt.xlabel('Sale Price (AUD)')\n",
    "plt.ylabel('Count')\n",
    "plt.show()\n"
   ]
  },
  {
   "cell_type": "code",
   "execution_count": null,
   "id": "55797b35",
   "metadata": {},
   "outputs": [],
   "source": [
    "\n",
    "# Missingness overview\n",
    "missing = df.isna().mean().sort_values(ascending=False).head(20)\n",
    "missing\n"
   ]
  }
 ],
 "metadata": {},
 "nbformat": 4,
 "nbformat_minor": 5
}
