{
 "cells": [
  {
   "cell_type": "markdown",
   "id": "7d2c70f4",
   "metadata": {},
   "source": [
    "# 02 — Baseline Model"
   ]
  },
  {
   "cell_type": "markdown",
   "id": "36e4b429",
   "metadata": {},
   "source": [
    "Scikit-learn pipeline with simple preprocessing + RandomForestRegressor. Edit `config/params.yaml` to tweak features."
   ]
  },
  {
   "cell_type": "code",
   "execution_count": null,
   "id": "1066a127",
   "metadata": {},
   "outputs": [],
   "source": [
    "\n",
    "import yaml, numpy as np, pandas as pd, joblib\n",
    "import matplotlib.pyplot as plt\n",
    "from sklearn.compose import ColumnTransformer\n",
    "from sklearn.impute import SimpleImputer\n",
    "from sklearn.pipeline import Pipeline\n",
    "from sklearn.preprocessing import OneHotEncoder\n",
    "from sklearn.ensemble import RandomForestRegressor\n",
    "from sklearn.model_selection import train_test_split\n",
    "from sklearn.metrics import mean_absolute_error, mean_squared_error\n",
    "\n",
    "from src.utils.data_loading import load_melbourne_csv\n",
    "from src.features.build_features import subset_focus_area, basic_clean\n",
    "\n",
    "cfg = yaml.safe_load(open('../config/params.yaml'))\n",
    "\n",
    "df = load_melbourne_csv('../' + cfg['data_path'])\n",
    "df = subset_focus_area(df, cfg['focus_suburbs'])\n",
    "df = basic_clean(df)\n",
    "\n",
    "target = cfg['target']\n",
    "num_feats = [c for c in cfg['numeric_features'] if c in df.columns]\n",
    "cat_feats = [c for c in cfg['categorical_features'] if c in df.columns]\n",
    "\n",
    "X = df[num_feats + cat_feats]\n",
    "y = df[target].values\n",
    "\n",
    "num_tf = Pipeline([('imp', SimpleImputer(strategy='median'))])\n",
    "cat_tf = Pipeline([('imp', SimpleImputer(strategy='most_frequent')),\n",
    "                   ('oh', OneHotEncoder(handle_unknown='ignore', sparse_output=False))])\n",
    "pre = ColumnTransformer([('num', num_tf, num_feats),\n",
    "                         ('cat', cat_tf, cat_feats)])\n",
    "\n",
    "model = RandomForestRegressor(**cfg['model']['params'])\n",
    "pipe = Pipeline([('pre', pre), ('model', model)])\n",
    "\n",
    "Xtr, Xte, ytr, yte = train_test_split(X, y, test_size=cfg['test_size'], random_state=cfg['random_state'])\n",
    "\n",
    "pipe.fit(Xtr, ytr)\n",
    "pred = pipe.predict(Xte)\n",
    "mae = mean_absolute_error(yte, pred)\n",
    "rmse = np.sqrt(mean_squared_error(yte, pred))\n",
    "print(f\"MAE: ${mae:,.0f}  |  RMSE: ${rmse:,.0f}\")\n",
    "\n",
    "# Error plot\n",
    "err = yte - pred\n",
    "plt.hist(err, bins=50, edgecolor='black')\n",
    "plt.title('Residuals')\n",
    "plt.xlabel('Actual - Predicted')\n",
    "plt.ylabel('Count')\n",
    "plt.show()\n",
    "\n",
    "# Save model\n",
    "import os\n",
    "os.makedirs('../models', exist_ok=True)\n",
    "joblib.dump(pipe, '../models/baseline.joblib')\n"
   ]
  }
 ],
 "metadata": {},
 "nbformat": 4,
 "nbformat_minor": 5
}
